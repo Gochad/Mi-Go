{
 "cells": [
  {
   "cell_type": "code",
   "execution_count": null,
   "metadata": {
    "collapsed": true,
    "pycharm": {
     "name": "#%%\n"
    }
   },
   "outputs": [],
   "source": [
    "import difflib\n",
    "\n",
    "from youtube_transcript_api import YouTubeTranscriptApi\n",
    "\n",
    "from core import Video, Model"
   ]
  },
  {
   "cell_type": "code",
   "execution_count": 7,
   "outputs": [],
   "source": [
    "from cconf import config\n",
    "\n",
    "config.file('.env')\n",
    "\n",
    "p = Path('.\\\\cache\\\\transcript')\n",
    "\n",
    "with open(p.joinpath('xd.txt'), 'x') as f:\n",
    "    f.write('XD')"
   ],
   "metadata": {
    "collapsed": false,
    "pycharm": {
     "name": "#%%\n"
    }
   }
  },
  {
   "cell_type": "code",
   "execution_count": 2,
   "outputs": [
    {
     "name": "stdout",
     "output_type": "stream",
     "text": [
      "Start download... What Happens if a Supervolcano Blows Up?\n"
     ]
    },
    {
     "ename": "KeyboardInterrupt",
     "evalue": "",
     "output_type": "error",
     "traceback": [
      "\u001B[1;31m---------------------------------------------------------------------------\u001B[0m",
      "\u001B[1;31mKeyboardInterrupt\u001B[0m                         Traceback (most recent call last)",
      "Cell \u001B[1;32mIn [2], line 2\u001B[0m\n\u001B[0;32m      1\u001B[0m yt \u001B[38;5;241m=\u001B[39m Video(\u001B[38;5;124m'\u001B[39m\u001B[38;5;124mhttps://www.youtube.com/watch?v=fXb02MQ78yQ\u001B[39m\u001B[38;5;124m'\u001B[39m)\n\u001B[1;32m----> 2\u001B[0m audio \u001B[38;5;241m=\u001B[39m \u001B[43myt\u001B[49m\u001B[38;5;241;43m.\u001B[39;49m\u001B[43mdownload_mp3\u001B[49m\u001B[43m(\u001B[49m\u001B[43m)\u001B[49m\n",
      "File \u001B[1;32mD:\\Tomasz\\Pulpit\\Whisper\\core\\video.py:10\u001B[0m, in \u001B[0;36mVideo.download_mp3\u001B[1;34m(self)\u001B[0m\n\u001B[0;32m      8\u001B[0m \u001B[38;5;28;01mdef\u001B[39;00m \u001B[38;5;21mdownload_mp3\u001B[39m(\u001B[38;5;28mself\u001B[39m):\n\u001B[0;32m      9\u001B[0m     \u001B[38;5;28mprint\u001B[39m(\u001B[38;5;124mf\u001B[39m\u001B[38;5;124m\"\u001B[39m\u001B[38;5;124mStart download... \u001B[39m\u001B[38;5;132;01m{\u001B[39;00m\u001B[38;5;28mself\u001B[39m\u001B[38;5;241m.\u001B[39mtitle\u001B[38;5;132;01m}\u001B[39;00m\u001B[38;5;124m\"\u001B[39m)\n\u001B[1;32m---> 10\u001B[0m     audio \u001B[38;5;241m=\u001B[39m \u001B[38;5;28;43mself\u001B[39;49m\u001B[38;5;241;43m.\u001B[39;49m\u001B[43mstreams\u001B[49m\u001B[38;5;241m.\u001B[39mfilter(only_audio\u001B[38;5;241m=\u001B[39m\u001B[38;5;28;01mTrue\u001B[39;00m)\u001B[38;5;241m.\u001B[39mfirst()\n\u001B[0;32m     11\u001B[0m     \u001B[38;5;28;01mreturn\u001B[39;00m audio\u001B[38;5;241m.\u001B[39mdownload(output_path\u001B[38;5;241m=\u001B[39m\u001B[38;5;28mself\u001B[39m\u001B[38;5;241m.\u001B[39mCACHE_PATH)\u001B[38;5;241m.\u001B[39msplit(\u001B[38;5;124m'\u001B[39m\u001B[38;5;130;01m\\\\\u001B[39;00m\u001B[38;5;124m'\u001B[39m)[\u001B[38;5;241m-\u001B[39m\u001B[38;5;241m1\u001B[39m]\n",
      "File \u001B[1;32mD:\\Python venv\\Whisper\\lib\\site-packages\\pytube\\__main__.py:296\u001B[0m, in \u001B[0;36mYouTube.streams\u001B[1;34m(self)\u001B[0m\n\u001B[0;32m    291\u001B[0m \u001B[38;5;124;03m\"\"\"Interface to query both adaptive (DASH) and progressive streams.\u001B[39;00m\n\u001B[0;32m    292\u001B[0m \n\u001B[0;32m    293\u001B[0m \u001B[38;5;124;03m:rtype: :class:`StreamQuery <StreamQuery>`.\u001B[39;00m\n\u001B[0;32m    294\u001B[0m \u001B[38;5;124;03m\"\"\"\u001B[39;00m\n\u001B[0;32m    295\u001B[0m \u001B[38;5;28mself\u001B[39m\u001B[38;5;241m.\u001B[39mcheck_availability()\n\u001B[1;32m--> 296\u001B[0m \u001B[38;5;28;01mreturn\u001B[39;00m StreamQuery(\u001B[38;5;28;43mself\u001B[39;49m\u001B[38;5;241;43m.\u001B[39;49m\u001B[43mfmt_streams\u001B[49m)\n",
      "File \u001B[1;32mD:\\Python venv\\Whisper\\lib\\site-packages\\pytube\\__main__.py:181\u001B[0m, in \u001B[0;36mYouTube.fmt_streams\u001B[1;34m(self)\u001B[0m\n\u001B[0;32m    178\u001B[0m \u001B[38;5;66;03m# If the cached js doesn't work, try fetching a new js file\u001B[39;00m\n\u001B[0;32m    179\u001B[0m \u001B[38;5;66;03m# https://github.com/pytube/pytube/issues/1054\u001B[39;00m\n\u001B[0;32m    180\u001B[0m \u001B[38;5;28;01mtry\u001B[39;00m:\n\u001B[1;32m--> 181\u001B[0m     \u001B[43mextract\u001B[49m\u001B[38;5;241;43m.\u001B[39;49m\u001B[43mapply_signature\u001B[49m\u001B[43m(\u001B[49m\u001B[43mstream_manifest\u001B[49m\u001B[43m,\u001B[49m\u001B[43m \u001B[49m\u001B[38;5;28;43mself\u001B[39;49m\u001B[38;5;241;43m.\u001B[39;49m\u001B[43mvid_info\u001B[49m\u001B[43m,\u001B[49m\u001B[43m \u001B[49m\u001B[38;5;28;43mself\u001B[39;49m\u001B[38;5;241;43m.\u001B[39;49m\u001B[43mjs\u001B[49m\u001B[43m)\u001B[49m\n\u001B[0;32m    182\u001B[0m \u001B[38;5;28;01mexcept\u001B[39;00m exceptions\u001B[38;5;241m.\u001B[39mExtractError:\n\u001B[0;32m    183\u001B[0m     \u001B[38;5;66;03m# To force an update to the js file, we clear the cache and retry\u001B[39;00m\n\u001B[0;32m    184\u001B[0m     \u001B[38;5;28mself\u001B[39m\u001B[38;5;241m.\u001B[39m_js \u001B[38;5;241m=\u001B[39m \u001B[38;5;28;01mNone\u001B[39;00m\n",
      "File \u001B[1;32mD:\\Python venv\\Whisper\\lib\\site-packages\\pytube\\extract.py:409\u001B[0m, in \u001B[0;36mapply_signature\u001B[1;34m(stream_manifest, vid_info, js)\u001B[0m\n\u001B[0;32m    400\u001B[0m \u001B[38;5;28;01mdef\u001B[39;00m \u001B[38;5;21mapply_signature\u001B[39m(stream_manifest: Dict, vid_info: Dict, js: \u001B[38;5;28mstr\u001B[39m) \u001B[38;5;241m-\u001B[39m\u001B[38;5;241m>\u001B[39m \u001B[38;5;28;01mNone\u001B[39;00m:\n\u001B[0;32m    401\u001B[0m     \u001B[38;5;124;03m\"\"\"Apply the decrypted signature to the stream manifest.\u001B[39;00m\n\u001B[0;32m    402\u001B[0m \n\u001B[0;32m    403\u001B[0m \u001B[38;5;124;03m    :param dict stream_manifest:\u001B[39;00m\n\u001B[1;32m   (...)\u001B[0m\n\u001B[0;32m    407\u001B[0m \n\u001B[0;32m    408\u001B[0m \u001B[38;5;124;03m    \"\"\"\u001B[39;00m\n\u001B[1;32m--> 409\u001B[0m     cipher \u001B[38;5;241m=\u001B[39m \u001B[43mCipher\u001B[49m\u001B[43m(\u001B[49m\u001B[43mjs\u001B[49m\u001B[38;5;241;43m=\u001B[39;49m\u001B[43mjs\u001B[49m\u001B[43m)\u001B[49m\n\u001B[0;32m    411\u001B[0m     \u001B[38;5;28;01mfor\u001B[39;00m i, stream \u001B[38;5;129;01min\u001B[39;00m \u001B[38;5;28menumerate\u001B[39m(stream_manifest):\n\u001B[0;32m    412\u001B[0m         \u001B[38;5;28;01mtry\u001B[39;00m:\n",
      "File \u001B[1;32mD:\\Python venv\\Whisper\\lib\\site-packages\\pytube\\cipher.py:29\u001B[0m, in \u001B[0;36mCipher.__init__\u001B[1;34m(self, js)\u001B[0m\n\u001B[0;32m     28\u001B[0m \u001B[38;5;28;01mdef\u001B[39;00m \u001B[38;5;21m__init__\u001B[39m(\u001B[38;5;28mself\u001B[39m, js: \u001B[38;5;28mstr\u001B[39m):\n\u001B[1;32m---> 29\u001B[0m     \u001B[38;5;28mself\u001B[39m\u001B[38;5;241m.\u001B[39mtransform_plan: List[\u001B[38;5;28mstr\u001B[39m] \u001B[38;5;241m=\u001B[39m \u001B[43mget_transform_plan\u001B[49m\u001B[43m(\u001B[49m\u001B[43mjs\u001B[49m\u001B[43m)\u001B[49m\n\u001B[0;32m     30\u001B[0m     var_regex \u001B[38;5;241m=\u001B[39m re\u001B[38;5;241m.\u001B[39mcompile(\u001B[38;5;124mr\u001B[39m\u001B[38;5;124m\"\u001B[39m\u001B[38;5;124m^\u001B[39m\u001B[38;5;124m\\\u001B[39m\u001B[38;5;124mw+\u001B[39m\u001B[38;5;124m\\\u001B[39m\u001B[38;5;124mW\u001B[39m\u001B[38;5;124m\"\u001B[39m)\n\u001B[0;32m     31\u001B[0m     var_match \u001B[38;5;241m=\u001B[39m var_regex\u001B[38;5;241m.\u001B[39msearch(\u001B[38;5;28mself\u001B[39m\u001B[38;5;241m.\u001B[39mtransform_plan[\u001B[38;5;241m0\u001B[39m])\n",
      "File \u001B[1;32mD:\\Python venv\\Whisper\\lib\\site-packages\\pytube\\cipher.py:194\u001B[0m, in \u001B[0;36mget_transform_plan\u001B[1;34m(js)\u001B[0m\n\u001B[0;32m    174\u001B[0m \u001B[38;5;28;01mdef\u001B[39;00m \u001B[38;5;21mget_transform_plan\u001B[39m(js: \u001B[38;5;28mstr\u001B[39m) \u001B[38;5;241m-\u001B[39m\u001B[38;5;241m>\u001B[39m List[\u001B[38;5;28mstr\u001B[39m]:\n\u001B[0;32m    175\u001B[0m     \u001B[38;5;124;03m\"\"\"Extract the \"transform plan\".\u001B[39;00m\n\u001B[0;32m    176\u001B[0m \n\u001B[0;32m    177\u001B[0m \u001B[38;5;124;03m    The \"transform plan\" is the functions that the ciphered signature is\u001B[39;00m\n\u001B[1;32m   (...)\u001B[0m\n\u001B[0;32m    192\u001B[0m \u001B[38;5;124;03m    'DE.kT(a,21)']\u001B[39;00m\n\u001B[0;32m    193\u001B[0m \u001B[38;5;124;03m    \"\"\"\u001B[39;00m\n\u001B[1;32m--> 194\u001B[0m     name \u001B[38;5;241m=\u001B[39m re\u001B[38;5;241m.\u001B[39mescape(\u001B[43mget_initial_function_name\u001B[49m\u001B[43m(\u001B[49m\u001B[43mjs\u001B[49m\u001B[43m)\u001B[49m)\n\u001B[0;32m    195\u001B[0m     pattern \u001B[38;5;241m=\u001B[39m \u001B[38;5;124mr\u001B[39m\u001B[38;5;124m\"\u001B[39m\u001B[38;5;132;01m%s\u001B[39;00m\u001B[38;5;124m=function\u001B[39m\u001B[38;5;124m\\\u001B[39m\u001B[38;5;124m(\u001B[39m\u001B[38;5;124m\\\u001B[39m\u001B[38;5;124mw\u001B[39m\u001B[38;5;124m\\\u001B[39m\u001B[38;5;124m)\u001B[39m\u001B[38;5;124m{\u001B[39m\u001B[38;5;124m[a-z=\u001B[39m\u001B[38;5;124m\\\u001B[39m\u001B[38;5;124m.\u001B[39m\u001B[38;5;124m\\\u001B[39m\u001B[38;5;124m(\u001B[39m\u001B[38;5;130;01m\\\"\u001B[39;00m\u001B[38;5;124m\\\u001B[39m\u001B[38;5;124m)]*;(.*);(?:.+)}\u001B[39m\u001B[38;5;124m\"\u001B[39m \u001B[38;5;241m%\u001B[39m name\n\u001B[0;32m    196\u001B[0m     logger\u001B[38;5;241m.\u001B[39mdebug(\u001B[38;5;124m\"\u001B[39m\u001B[38;5;124mgetting transform plan\u001B[39m\u001B[38;5;124m\"\u001B[39m)\n",
      "File \u001B[1;32mD:\\Python venv\\Whisper\\lib\\site-packages\\pytube\\cipher.py:165\u001B[0m, in \u001B[0;36mget_initial_function_name\u001B[1;34m(js)\u001B[0m\n\u001B[0;32m    163\u001B[0m regex \u001B[38;5;241m=\u001B[39m re\u001B[38;5;241m.\u001B[39mcompile(pattern)\n\u001B[0;32m    164\u001B[0m function_match \u001B[38;5;241m=\u001B[39m regex\u001B[38;5;241m.\u001B[39msearch(js)\n\u001B[1;32m--> 165\u001B[0m \u001B[38;5;28;01mif\u001B[39;00m function_match:\n\u001B[0;32m    166\u001B[0m     logger\u001B[38;5;241m.\u001B[39mdebug(\u001B[38;5;124m\"\u001B[39m\u001B[38;5;124mfinished regex search, matched: \u001B[39m\u001B[38;5;132;01m%s\u001B[39;00m\u001B[38;5;124m\"\u001B[39m, pattern)\n\u001B[0;32m    167\u001B[0m     \u001B[38;5;28;01mreturn\u001B[39;00m function_match\u001B[38;5;241m.\u001B[39mgroup(\u001B[38;5;241m1\u001B[39m)\n",
      "\u001B[1;31mKeyboardInterrupt\u001B[0m: "
     ]
    }
   ],
   "source": [
    "yt = Video('https://www.youtube.com/watch?v=fXb02MQ78yQ')\n",
    "audio = yt.download_mp3()"
   ],
   "metadata": {
    "collapsed": false,
    "pycharm": {
     "name": "#%%\n"
    }
   }
  },
  {
   "cell_type": "code",
   "execution_count": 2,
   "outputs": [
    {
     "ename": "RuntimeError",
     "evalue": "Failed to load audio: ffmpeg version 5.1.2-full_build-www.gyan.dev Copyright (c) 2000-2022 the FFmpeg developers\r\n  built with gcc 12.1.0 (Rev2, Built by MSYS2 project)\r\n  configuration: --enable-gpl --enable-version3 --enable-static --disable-w32threads --disable-autodetect --enable-fontconfig --enable-iconv --enable-gnutls --enable-libxml2 --enable-gmp --enable-bzlib --enable-lzma --enable-libsnappy --enable-zlib --enable-librist --enable-libsrt --enable-libssh --enable-libzmq --enable-avisynth --enable-libbluray --enable-libcaca --enable-sdl2 --enable-libaribb24 --enable-libdav1d --enable-libdavs2 --enable-libuavs3d --enable-libzvbi --enable-librav1e --enable-libsvtav1 --enable-libwebp --enable-libx264 --enable-libx265 --enable-libxavs2 --enable-libxvid --enable-libaom --enable-libjxl --enable-libopenjpeg --enable-libvpx --enable-mediafoundation --enable-libass --enable-frei0r --enable-libfreetype --enable-libfribidi --enable-liblensfun --enable-libvidstab --enable-libvmaf --enable-libzimg --enable-amf --enable-cuda-llvm --enable-cuvid --enable-ffnvcodec --enable-nvdec --enable-nvenc --enable-d3d11va --enable-dxva2 --enable-libmfx --enable-libshaderc --enable-vulkan --enable-libplacebo --enable-opencl --enable-libcdio --enable-libgme --enable-libmodplug --enable-libopenmpt --enable-libopencore-amrwb --enable-libmp3lame --enable-libshine --enable-libtheora --enable-libtwolame --enable-libvo-amrwbenc --enable-libilbc --enable-libgsm --enable-libopencore-amrnb --enable-libopus --enable-libspeex --enable-libvorbis --enable-ladspa --enable-libbs2b --enable-libflite --enable-libmysofa --enable-librubberband --enable-libsoxr --enable-chromaprint\r\n  libavutil      57. 28.100 / 57. 28.100\r\n  libavcodec     59. 37.100 / 59. 37.100\r\n  libavformat    59. 27.100 / 59. 27.100\r\n  libavdevice    59.  7.100 / 59.  7.100\r\n  libavfilter     8. 44.100 /  8. 44.100\r\n  libswscale      6.  7.100 /  6.  7.100\r\n  libswresample   4.  7.100 /  4.  7.100\r\n  libpostproc    56.  6.100 / 56.  6.100\r\n.~\\cache\\audio\\micro-machines.wav: No such file or directory\r\n",
     "output_type": "error",
     "traceback": [
      "\u001B[1;31m---------------------------------------------------------------------------\u001B[0m",
      "\u001B[1;31mError\u001B[0m                                     Traceback (most recent call last)",
      "File \u001B[1;32mD:\\Python venv\\Whisper\\lib\\site-packages\\whisper\\audio.py:42\u001B[0m, in \u001B[0;36mload_audio\u001B[1;34m(file, sr)\u001B[0m\n\u001B[0;32m     38\u001B[0m \u001B[38;5;28;01mtry\u001B[39;00m:\n\u001B[0;32m     39\u001B[0m     \u001B[38;5;66;03m# This launches a subprocess to decode audio while down-mixing and resampling as necessary.\u001B[39;00m\n\u001B[0;32m     40\u001B[0m     \u001B[38;5;66;03m# Requires the ffmpeg CLI and `ffmpeg-python` package to be installed.\u001B[39;00m\n\u001B[0;32m     41\u001B[0m     out, _ \u001B[38;5;241m=\u001B[39m (\n\u001B[1;32m---> 42\u001B[0m         \u001B[43mffmpeg\u001B[49m\u001B[38;5;241;43m.\u001B[39;49m\u001B[43minput\u001B[49m\u001B[43m(\u001B[49m\u001B[43mfile\u001B[49m\u001B[43m,\u001B[49m\u001B[43m \u001B[49m\u001B[43mthreads\u001B[49m\u001B[38;5;241;43m=\u001B[39;49m\u001B[38;5;241;43m0\u001B[39;49m\u001B[43m)\u001B[49m\n\u001B[0;32m     43\u001B[0m \u001B[43m        \u001B[49m\u001B[38;5;241;43m.\u001B[39;49m\u001B[43moutput\u001B[49m\u001B[43m(\u001B[49m\u001B[38;5;124;43m\"\u001B[39;49m\u001B[38;5;124;43m-\u001B[39;49m\u001B[38;5;124;43m\"\u001B[39;49m\u001B[43m,\u001B[49m\u001B[43m \u001B[49m\u001B[38;5;28;43mformat\u001B[39;49m\u001B[38;5;241;43m=\u001B[39;49m\u001B[38;5;124;43m\"\u001B[39;49m\u001B[38;5;124;43ms16le\u001B[39;49m\u001B[38;5;124;43m\"\u001B[39;49m\u001B[43m,\u001B[49m\u001B[43m \u001B[49m\u001B[43macodec\u001B[49m\u001B[38;5;241;43m=\u001B[39;49m\u001B[38;5;124;43m\"\u001B[39;49m\u001B[38;5;124;43mpcm_s16le\u001B[39;49m\u001B[38;5;124;43m\"\u001B[39;49m\u001B[43m,\u001B[49m\u001B[43m \u001B[49m\u001B[43mac\u001B[49m\u001B[38;5;241;43m=\u001B[39;49m\u001B[38;5;241;43m1\u001B[39;49m\u001B[43m,\u001B[49m\u001B[43m \u001B[49m\u001B[43mar\u001B[49m\u001B[38;5;241;43m=\u001B[39;49m\u001B[43msr\u001B[49m\u001B[43m)\u001B[49m\n\u001B[0;32m     44\u001B[0m \u001B[43m        \u001B[49m\u001B[38;5;241;43m.\u001B[39;49m\u001B[43mrun\u001B[49m\u001B[43m(\u001B[49m\u001B[43mcmd\u001B[49m\u001B[38;5;241;43m=\u001B[39;49m\u001B[43m[\u001B[49m\u001B[38;5;124;43m\"\u001B[39;49m\u001B[38;5;124;43mffmpeg\u001B[39;49m\u001B[38;5;124;43m\"\u001B[39;49m\u001B[43m,\u001B[49m\u001B[43m \u001B[49m\u001B[38;5;124;43m\"\u001B[39;49m\u001B[38;5;124;43m-nostdin\u001B[39;49m\u001B[38;5;124;43m\"\u001B[39;49m\u001B[43m]\u001B[49m\u001B[43m,\u001B[49m\u001B[43m \u001B[49m\u001B[43mcapture_stdout\u001B[49m\u001B[38;5;241;43m=\u001B[39;49m\u001B[38;5;28;43;01mTrue\u001B[39;49;00m\u001B[43m,\u001B[49m\u001B[43m \u001B[49m\u001B[43mcapture_stderr\u001B[49m\u001B[38;5;241;43m=\u001B[39;49m\u001B[38;5;28;43;01mTrue\u001B[39;49;00m\u001B[43m)\u001B[49m\n\u001B[0;32m     45\u001B[0m     )\n\u001B[0;32m     46\u001B[0m \u001B[38;5;28;01mexcept\u001B[39;00m ffmpeg\u001B[38;5;241m.\u001B[39mError \u001B[38;5;28;01mas\u001B[39;00m e:\n",
      "File \u001B[1;32mD:\\Python venv\\Whisper\\lib\\site-packages\\ffmpeg\\_run.py:325\u001B[0m, in \u001B[0;36mrun\u001B[1;34m(stream_spec, cmd, capture_stdout, capture_stderr, input, quiet, overwrite_output)\u001B[0m\n\u001B[0;32m    324\u001B[0m \u001B[38;5;28;01mif\u001B[39;00m retcode:\n\u001B[1;32m--> 325\u001B[0m     \u001B[38;5;28;01mraise\u001B[39;00m Error(\u001B[38;5;124m'\u001B[39m\u001B[38;5;124mffmpeg\u001B[39m\u001B[38;5;124m'\u001B[39m, out, err)\n\u001B[0;32m    326\u001B[0m \u001B[38;5;28;01mreturn\u001B[39;00m out, err\n",
      "\u001B[1;31mError\u001B[0m: ffmpeg error (see stderr output for detail)",
      "\nThe above exception was the direct cause of the following exception:\n",
      "\u001B[1;31mRuntimeError\u001B[0m                              Traceback (most recent call last)",
      "Cell \u001B[1;32mIn [2], line 2\u001B[0m\n\u001B[0;32m      1\u001B[0m model \u001B[38;5;241m=\u001B[39m Model(\u001B[38;5;124m'\u001B[39m\u001B[38;5;124msmall.en\u001B[39m\u001B[38;5;124m'\u001B[39m)\n\u001B[1;32m----> 2\u001B[0m \u001B[43mmodel\u001B[49m\u001B[38;5;241;43m.\u001B[39;49m\u001B[43mtranscribe\u001B[49m\u001B[43m(\u001B[49m\u001B[43mfilename\u001B[49m\u001B[38;5;241;43m=\u001B[39;49m\u001B[38;5;124;43m'\u001B[39;49m\u001B[38;5;124;43mmicro-machines.wav\u001B[39;49m\u001B[38;5;124;43m'\u001B[39;49m\u001B[43m,\u001B[49m\u001B[43m \u001B[49m\u001B[43mverbose\u001B[49m\u001B[38;5;241;43m=\u001B[39;49m\u001B[38;5;28;43;01mTrue\u001B[39;49;00m\u001B[43m)\u001B[49m\n",
      "File \u001B[1;32mD:\\Tomasz\\Pulpit\\Whisper\\core\\model.py:34\u001B[0m, in \u001B[0;36mModel.transcribe\u001B[1;34m(self, filename, delete_audio, **kwargs)\u001B[0m\n\u001B[0;32m     31\u001B[0m \u001B[38;5;28;01mif\u001B[39;00m \u001B[38;5;28mself\u001B[39m\u001B[38;5;241m.\u001B[39mcache \u001B[38;5;129;01mand\u001B[39;00m transcript_path\u001B[38;5;241m.\u001B[39mis_file():\n\u001B[0;32m     32\u001B[0m     \u001B[38;5;28;01mreturn\u001B[39;00m \u001B[38;5;28mself\u001B[39m\u001B[38;5;241m.\u001B[39mload(name)\n\u001B[1;32m---> 34\u001B[0m result \u001B[38;5;241m=\u001B[39m \u001B[38;5;28mself\u001B[39m\u001B[38;5;241m.\u001B[39mmodel\u001B[38;5;241m.\u001B[39mtranscribe(audio\u001B[38;5;241m=\u001B[39m\u001B[38;5;124m'\u001B[39m\u001B[38;5;124m.\u001B[39m\u001B[38;5;124m'\u001B[39m \u001B[38;5;241m+\u001B[39m \u001B[38;5;28mstr\u001B[39m(audio_path), \u001B[38;5;241m*\u001B[39m\u001B[38;5;241m*\u001B[39mkwargs)\n\u001B[0;32m     36\u001B[0m \u001B[38;5;28;01mif\u001B[39;00m \u001B[38;5;28mself\u001B[39m\u001B[38;5;241m.\u001B[39mcache:\n\u001B[0;32m     37\u001B[0m     \u001B[38;5;28mself\u001B[39m\u001B[38;5;241m.\u001B[39msave(result, name)\n",
      "File \u001B[1;32mD:\\Python venv\\Whisper\\lib\\site-packages\\whisper\\transcribe.py:84\u001B[0m, in \u001B[0;36mtranscribe\u001B[1;34m(model, audio, verbose, temperature, compression_ratio_threshold, logprob_threshold, no_speech_threshold, condition_on_previous_text, **decode_options)\u001B[0m\n\u001B[0;32m     81\u001B[0m \u001B[38;5;28;01mif\u001B[39;00m dtype \u001B[38;5;241m==\u001B[39m torch\u001B[38;5;241m.\u001B[39mfloat32:\n\u001B[0;32m     82\u001B[0m     decode_options[\u001B[38;5;124m\"\u001B[39m\u001B[38;5;124mfp16\u001B[39m\u001B[38;5;124m\"\u001B[39m] \u001B[38;5;241m=\u001B[39m \u001B[38;5;28;01mFalse\u001B[39;00m\n\u001B[1;32m---> 84\u001B[0m mel \u001B[38;5;241m=\u001B[39m \u001B[43mlog_mel_spectrogram\u001B[49m\u001B[43m(\u001B[49m\u001B[43maudio\u001B[49m\u001B[43m)\u001B[49m\n\u001B[0;32m     86\u001B[0m \u001B[38;5;28;01mif\u001B[39;00m decode_options\u001B[38;5;241m.\u001B[39mget(\u001B[38;5;124m\"\u001B[39m\u001B[38;5;124mlanguage\u001B[39m\u001B[38;5;124m\"\u001B[39m, \u001B[38;5;28;01mNone\u001B[39;00m) \u001B[38;5;129;01mis\u001B[39;00m \u001B[38;5;28;01mNone\u001B[39;00m:\n\u001B[0;32m     87\u001B[0m     \u001B[38;5;28;01mif\u001B[39;00m \u001B[38;5;129;01mnot\u001B[39;00m model\u001B[38;5;241m.\u001B[39mis_multilingual:\n",
      "File \u001B[1;32mD:\\Python venv\\Whisper\\lib\\site-packages\\whisper\\audio.py:111\u001B[0m, in \u001B[0;36mlog_mel_spectrogram\u001B[1;34m(audio, n_mels)\u001B[0m\n\u001B[0;32m    109\u001B[0m \u001B[38;5;28;01mif\u001B[39;00m \u001B[38;5;129;01mnot\u001B[39;00m torch\u001B[38;5;241m.\u001B[39mis_tensor(audio):\n\u001B[0;32m    110\u001B[0m     \u001B[38;5;28;01mif\u001B[39;00m \u001B[38;5;28misinstance\u001B[39m(audio, \u001B[38;5;28mstr\u001B[39m):\n\u001B[1;32m--> 111\u001B[0m         audio \u001B[38;5;241m=\u001B[39m \u001B[43mload_audio\u001B[49m\u001B[43m(\u001B[49m\u001B[43maudio\u001B[49m\u001B[43m)\u001B[49m\n\u001B[0;32m    112\u001B[0m     audio \u001B[38;5;241m=\u001B[39m torch\u001B[38;5;241m.\u001B[39mfrom_numpy(audio)\n\u001B[0;32m    114\u001B[0m window \u001B[38;5;241m=\u001B[39m torch\u001B[38;5;241m.\u001B[39mhann_window(N_FFT)\u001B[38;5;241m.\u001B[39mto(audio\u001B[38;5;241m.\u001B[39mdevice)\n",
      "File \u001B[1;32mD:\\Python venv\\Whisper\\lib\\site-packages\\whisper\\audio.py:47\u001B[0m, in \u001B[0;36mload_audio\u001B[1;34m(file, sr)\u001B[0m\n\u001B[0;32m     41\u001B[0m     out, _ \u001B[38;5;241m=\u001B[39m (\n\u001B[0;32m     42\u001B[0m         ffmpeg\u001B[38;5;241m.\u001B[39minput(file, threads\u001B[38;5;241m=\u001B[39m\u001B[38;5;241m0\u001B[39m)\n\u001B[0;32m     43\u001B[0m         \u001B[38;5;241m.\u001B[39moutput(\u001B[38;5;124m\"\u001B[39m\u001B[38;5;124m-\u001B[39m\u001B[38;5;124m\"\u001B[39m, \u001B[38;5;28mformat\u001B[39m\u001B[38;5;241m=\u001B[39m\u001B[38;5;124m\"\u001B[39m\u001B[38;5;124ms16le\u001B[39m\u001B[38;5;124m\"\u001B[39m, acodec\u001B[38;5;241m=\u001B[39m\u001B[38;5;124m\"\u001B[39m\u001B[38;5;124mpcm_s16le\u001B[39m\u001B[38;5;124m\"\u001B[39m, ac\u001B[38;5;241m=\u001B[39m\u001B[38;5;241m1\u001B[39m, ar\u001B[38;5;241m=\u001B[39msr)\n\u001B[0;32m     44\u001B[0m         \u001B[38;5;241m.\u001B[39mrun(cmd\u001B[38;5;241m=\u001B[39m[\u001B[38;5;124m\"\u001B[39m\u001B[38;5;124mffmpeg\u001B[39m\u001B[38;5;124m\"\u001B[39m, \u001B[38;5;124m\"\u001B[39m\u001B[38;5;124m-nostdin\u001B[39m\u001B[38;5;124m\"\u001B[39m], capture_stdout\u001B[38;5;241m=\u001B[39m\u001B[38;5;28;01mTrue\u001B[39;00m, capture_stderr\u001B[38;5;241m=\u001B[39m\u001B[38;5;28;01mTrue\u001B[39;00m)\n\u001B[0;32m     45\u001B[0m     )\n\u001B[0;32m     46\u001B[0m \u001B[38;5;28;01mexcept\u001B[39;00m ffmpeg\u001B[38;5;241m.\u001B[39mError \u001B[38;5;28;01mas\u001B[39;00m e:\n\u001B[1;32m---> 47\u001B[0m     \u001B[38;5;28;01mraise\u001B[39;00m \u001B[38;5;167;01mRuntimeError\u001B[39;00m(\u001B[38;5;124mf\u001B[39m\u001B[38;5;124m\"\u001B[39m\u001B[38;5;124mFailed to load audio: \u001B[39m\u001B[38;5;132;01m{\u001B[39;00me\u001B[38;5;241m.\u001B[39mstderr\u001B[38;5;241m.\u001B[39mdecode()\u001B[38;5;132;01m}\u001B[39;00m\u001B[38;5;124m\"\u001B[39m) \u001B[38;5;28;01mfrom\u001B[39;00m \u001B[38;5;21;01me\u001B[39;00m\n\u001B[0;32m     49\u001B[0m \u001B[38;5;28;01mreturn\u001B[39;00m np\u001B[38;5;241m.\u001B[39mfrombuffer(out, np\u001B[38;5;241m.\u001B[39mint16)\u001B[38;5;241m.\u001B[39mflatten()\u001B[38;5;241m.\u001B[39mastype(np\u001B[38;5;241m.\u001B[39mfloat32) \u001B[38;5;241m/\u001B[39m \u001B[38;5;241m32768.0\u001B[39m\n",
      "\u001B[1;31mRuntimeError\u001B[0m: Failed to load audio: ffmpeg version 5.1.2-full_build-www.gyan.dev Copyright (c) 2000-2022 the FFmpeg developers\r\n  built with gcc 12.1.0 (Rev2, Built by MSYS2 project)\r\n  configuration: --enable-gpl --enable-version3 --enable-static --disable-w32threads --disable-autodetect --enable-fontconfig --enable-iconv --enable-gnutls --enable-libxml2 --enable-gmp --enable-bzlib --enable-lzma --enable-libsnappy --enable-zlib --enable-librist --enable-libsrt --enable-libssh --enable-libzmq --enable-avisynth --enable-libbluray --enable-libcaca --enable-sdl2 --enable-libaribb24 --enable-libdav1d --enable-libdavs2 --enable-libuavs3d --enable-libzvbi --enable-librav1e --enable-libsvtav1 --enable-libwebp --enable-libx264 --enable-libx265 --enable-libxavs2 --enable-libxvid --enable-libaom --enable-libjxl --enable-libopenjpeg --enable-libvpx --enable-mediafoundation --enable-libass --enable-frei0r --enable-libfreetype --enable-libfribidi --enable-liblensfun --enable-libvidstab --enable-libvmaf --enable-libzimg --enable-amf --enable-cuda-llvm --enable-cuvid --enable-ffnvcodec --enable-nvdec --enable-nvenc --enable-d3d11va --enable-dxva2 --enable-libmfx --enable-libshaderc --enable-vulkan --enable-libplacebo --enable-opencl --enable-libcdio --enable-libgme --enable-libmodplug --enable-libopenmpt --enable-libopencore-amrwb --enable-libmp3lame --enable-libshine --enable-libtheora --enable-libtwolame --enable-libvo-amrwbenc --enable-libilbc --enable-libgsm --enable-libopencore-amrnb --enable-libopus --enable-libspeex --enable-libvorbis --enable-ladspa --enable-libbs2b --enable-libflite --enable-libmysofa --enable-librubberband --enable-libsoxr --enable-chromaprint\r\n  libavutil      57. 28.100 / 57. 28.100\r\n  libavcodec     59. 37.100 / 59. 37.100\r\n  libavformat    59. 27.100 / 59. 27.100\r\n  libavdevice    59.  7.100 / 59.  7.100\r\n  libavfilter     8. 44.100 /  8. 44.100\r\n  libswscale      6.  7.100 /  6.  7.100\r\n  libswresample   4.  7.100 /  4.  7.100\r\n  libpostproc    56.  6.100 / 56.  6.100\r\n.~\\cache\\audio\\micro-machines.wav: No such file or directory\r\n"
     ]
    }
   ],
   "source": [
    "model = Model('small.en')\n",
    "model.transcribe(filename='micro-machines.wav', verbose=True)"
   ],
   "metadata": {
    "collapsed": false,
    "pycharm": {
     "name": "#%%\n"
    }
   }
  },
  {
   "cell_type": "code",
   "execution_count": 7,
   "outputs": [],
   "source": [
    "from whisper.normalizers import EnglishTextNormalizer\n",
    "\n",
    "normalizer = EnglishTextNormalizer()\n",
    "normalized_text = normalizer(result['text'])"
   ],
   "metadata": {
    "collapsed": false,
    "pycharm": {
     "name": "#%%\n"
    }
   }
  },
  {
   "cell_type": "code",
   "execution_count": 49,
   "outputs": [
    {
     "name": "stdout",
     "output_type": "stream",
     "text": [
      "{'text': 'the Earth is a gigantic ball of', 'start': 0.199, 'duration': 5.321}\n",
      "{'text': 'semi-molton Rock with a heart of iron as', 'start': 2.94, 'duration': 5.1}\n",
      "{'text': 'hot as the surface of the Sun Titanic', 'start': 5.52, 'duration': 4.32}\n",
      "{'text': 'amounts of heat left over from its birth', 'start': 8.04, 'duration': 3.84}\n",
      "{'text': 'and the radioactive decay of trillions', 'start': 9.84, 'duration': 4.56}\n",
      "{'text': 'of tons of radioactive elements find No', 'start': 11.88, 'duration': 5.7}\n",
      "{'text': 'Escape but up currents of rock spanning', 'start': 14.4, 'duration': 4.98}\n",
      "{'text': 'thousands of kilometers carry this', 'start': 17.58, 'duration': 3.779}\n",
      "{'text': 'energy to the surface', 'start': 19.38, 'duration': 4.62}\n",
      "{'text': \"Earth's crust is the only thing in their\", 'start': 21.359, 'duration': 6.061}\n",
      "{'text': \"way it feels solid to us but it's only a\", 'start': 24.0, 'duration': 6.0}\n",
      "{'text': 'fragile barrier an apple skin around a', 'start': 27.42, 'duration': 4.32}\n",
      "{'text': 'flaming behemoth', 'start': 30.0, 'duration': 4.44}\n",
      "{'text': 'true apocalypses can break through and', 'start': 31.74, 'duration': 5.1}\n",
      "{'text': 'unleash eruptions tens of times more', 'start': 34.44, 'duration': 4.139}\n",
      "{'text': 'powerful than all of our nuclear weapons', 'start': 36.84, 'duration': 3.96}\n",
      "{'text': 'combined subjecting the climate to', 'start': 38.579, 'duration': 4.201}\n",
      "{'text': 'centuries worth of change in a single', 'start': 40.8, 'duration': 4.62}\n",
      "{'text': 'year while drowning continents in toxic', 'start': 42.78, 'duration': 4.38}\n",
      "{'text': 'Ash and gases', 'start': 45.42, 'duration': 3.54}\n",
      "{'text': 'super volcanoes', 'start': 47.16, 'duration': 4.98}\n",
      "{'text': 'how big can they get and will they put', 'start': 48.96, 'duration': 6.14}\n",
      "{'text': 'an end to humanity', 'start': 52.14, 'duration': 2.96}\n",
      "{'text': '[Music]', 'start': 56.37, 'duration': 3.13}\n",
      "{'text': 'volcanoes', 'start': 60.84, 'duration': 3.0}\n",
      "{'text': 'there are many types of volcanoes from', 'start': 64.14, 'duration': 4.86}\n",
      "{'text': 'towering mountains to lava domes but', 'start': 66.42, 'duration': 5.519}\n",
      "{'text': 'they have two main sources the first is', 'start': 69.0, 'duration': 4.68}\n",
      "{'text': 'that the boundaries between tectonic', 'start': 71.939, 'duration': 3.841}\n",
      "{'text': 'plates the pieces of the crust that', 'start': 73.68, 'duration': 3.72}\n",
      "{'text': 'cover the Earth like a giant jigsaw', 'start': 75.78, 'duration': 3.96}\n",
      "{'text': 'puzzle there are seven major tectonic', 'start': 77.4, 'duration': 4.2}\n",
      "{'text': 'plates and dozens of smaller ones', 'start': 79.74, 'duration': 4.08}\n",
      "{'text': 'drifting against each other at up to 15', 'start': 81.6, 'duration': 5.159}\n",
      "{'text': 'centimeters per year this sounds slow', 'start': 83.82, 'duration': 5.7}\n",
      "{'text': 'but on geological time scales it is a', 'start': 86.759, 'duration': 4.921}\n",
      "{'text': 'Titanic struggle over who gets to stay', 'start': 89.52, 'duration': 4.32}\n",
      "{'text': 'on the surface the winning plate', 'start': 91.68, 'duration': 4.259}\n",
      "{'text': 'crumples into a new mountain range while', 'start': 93.84, 'duration': 4.44}\n",
      "{'text': 'the loser is shoved underneath into an', 'start': 95.939, 'duration': 4.86}\n",
      "{'text': 'ocean of hot rock at 1 300 degrees', 'start': 98.28, 'duration': 5.22}\n",
      "{'text': 'Celsius the asthenosphere', 'start': 100.799, 'duration': 4.741}\n",
      "{'text': 'the temperature here is enough to melt', 'start': 103.5, 'duration': 4.079}\n",
      "{'text': 'rock into a liquid but the insane', 'start': 105.54, 'duration': 4.439}\n",
      "{'text': 'pressures of all that mass keep it a', 'start': 107.579, 'duration': 5.22}\n",
      "{'text': 'superheated sonnet tectonic plates are', 'start': 109.979, 'duration': 4.201}\n",
      "{'text': 'usually in contact with water for', 'start': 112.799, 'duration': 3.721}\n",
      "{'text': 'thousands of years and absorb some of it', 'start': 114.18, 'duration': 4.439}\n",
      "{'text': \"when they're submerged into the hot\", 'start': 116.52, 'duration': 4.26}\n",
      "{'text': 'underworld this water triggers chemical', 'start': 118.619, 'duration': 4.5}\n",
      "{'text': 'Transformations that allow tiny portions', 'start': 120.78, 'duration': 4.199}\n",
      "{'text': 'to melt into magma', 'start': 123.119, 'duration': 4.14}\n",
      "{'text': 'liquid magma is less dense than Solid', 'start': 124.979, 'duration': 4.381}\n",
      "{'text': 'Rock so it rises to the surface in', 'start': 127.259, 'duration': 4.261}\n",
      "{'text': 'Furious bubbles that accumulate in', 'start': 129.36, 'duration': 4.08}\n",
      "{'text': 'sponge-like reservoirs right under the', 'start': 131.52, 'duration': 4.98}\n",
      "{'text': 'crust if enough magma accumulates it', 'start': 133.44, 'duration': 4.56}\n",
      "{'text': 'becomes powerful enough to pierce', 'start': 136.5, 'duration': 3.84}\n",
      "{'text': 'through the crust which we experience as', 'start': 138.0, 'duration': 4.08}\n",
      "{'text': 'volcanoes', 'start': 140.34, 'duration': 3.72}\n",
      "{'text': 'this happens under the winning plate', 'start': 142.08, 'duration': 4.08}\n",
      "{'text': 'like a Revenge attack by the loser', 'start': 144.06, 'duration': 4.319}\n",
      "{'text': \"before it's erased forever\", 'start': 146.16, 'duration': 4.86}\n",
      "{'text': 'the second main source of volcanoes are', 'start': 148.379, 'duration': 5.041}\n",
      "{'text': 'thought to be mantle plumes these are', 'start': 151.02, 'duration': 4.62}\n",
      "{'text': 'columns of abnormally hot rock that rise', 'start': 153.42, 'duration': 3.6}\n",
      "{'text': \"all the way from the planet's core\", 'start': 155.64, 'duration': 4.26}\n",
      "{'text': 'mantle boundary to the surface much less', 'start': 157.02, 'duration': 5.1}\n",
      "{'text': \"is known about them but in a way it's as\", 'start': 159.9, 'duration': 3.6}\n",
      "{'text': \"if the Earth's mantle has weather\", 'start': 162.12, 'duration': 3.479}\n",
      "{'text': 'patterns and mantle plumes are a little', 'start': 163.5, 'duration': 5.34}\n",
      "{'text': 'like hot air rising to form storm clouds', 'start': 165.599, 'duration': 5.521}\n",
      "{'text': 'storms hundreds of millions of years old', 'start': 168.84, 'duration': 4.8}\n",
      "{'text': 'made of rocks circulating at a rate of a', 'start': 171.12, 'duration': 4.259}\n",
      "{'text': 'few millimeters per month', 'start': 173.64, 'duration': 3.48}\n",
      "{'text': \"they don't care about the motion of\", 'start': 175.379, 'duration': 3.841}\n",
      "{'text': 'tectonic plates so they can break the', 'start': 177.12, 'duration': 4.08}\n",
      "{'text': 'crust to create volcanoes in the middle', 'start': 179.22, 'duration': 4.14}\n",
      "{'text': 'of nowhere that stubbornly stay active', 'start': 181.2, 'duration': 4.619}\n",
      "{'text': 'as the crust shifts around them', 'start': 183.36, 'duration': 4.56}\n",
      "{'text': 'the volcanic boom meter', 'start': 185.819, 'duration': 4.441}\n",
      "{'text': 'scientists love to put big booms on a', 'start': 187.92, 'duration': 4.44}\n",
      "{'text': 'scale and came up with a logarithmic', 'start': 190.26, 'duration': 4.14}\n",
      "{'text': 'scale that measures the volume ejected', 'start': 192.36, 'duration': 4.379}\n",
      "{'text': 'during an eruption the volcanic', 'start': 194.4, 'duration': 6.419}\n",
      "{'text': 'explosivity index or vei simply put it', 'start': 196.739, 'duration': 6.301}\n",
      "{'text': 'starts really small and gets very big', 'start': 200.819, 'duration': 4.081}\n",
      "{'text': 'very quickly', 'start': 203.04, 'duration': 5.339}\n",
      "{'text': 'a vei 2 eruption would fill 400 full', 'start': 204.9, 'duration': 6.3}\n",
      "{'text': 'Olympic swimming pools with lava we have', 'start': 208.379, 'duration': 4.801}\n",
      "{'text': 'around 10 of these per year', 'start': 211.2, 'duration': 5.039}\n",
      "{'text': 'at vei 3 we already see devastating', 'start': 213.18, 'duration': 5.339}\n",
      "{'text': 'effects like the eruption of the semaru', 'start': 216.239, 'duration': 5.041}\n",
      "{'text': 'volcano in 2021 that destroyed thousands', 'start': 218.519, 'duration': 4.561}\n",
      "{'text': 'of homes in Indonesia', 'start': 221.28, 'duration': 5.22}\n",
      "{'text': 'at vei 5 we see catastrophic amounts of', 'start': 223.08, 'duration': 5.879}\n",
      "{'text': 'materials cubic kilometers of debris', 'start': 226.5, 'duration': 4.68}\n",
      "{'text': 'equivalent to an entire Lake of molten', 'start': 228.959, 'duration': 5.161}\n",
      "{'text': 'rock blasted into the air like the 2022', 'start': 231.18, 'duration': 5.22}\n",
      "{'text': 'hunger Tonga hunger hapai eruption that', 'start': 234.12, 'duration': 3.899}\n",
      "{'text': 'sent a Shockwave around the globe many', 'start': 236.4, 'duration': 5.04}\n",
      "{'text': 'times and created ocean-wide tsunamis', 'start': 238.019, 'duration': 6.661}\n",
      "{'text': 'at a vei of six an eruption can change', 'start': 241.44, 'duration': 6.299}\n",
      "{'text': 'the world in 1883 the Indonesian island', 'start': 244.68, 'duration': 5.46}\n",
      "{'text': 'volcano Krakatoa erupted nearly', 'start': 247.739, 'duration': 4.2}\n",
      "{'text': 'continuously over the course of five', 'start': 250.14, 'duration': 4.379}\n",
      "{'text': 'months one of those eruptions blew it', 'start': 251.939, 'duration': 4.441}\n",
      "{'text': 'apart producing the loudest sound', 'start': 254.519, 'duration': 4.5}\n",
      "{'text': 'recorded in history 10 trillion times', 'start': 256.38, 'duration': 4.74}\n",
      "{'text': 'louder than a Rocket taking off heard', 'start': 259.019, 'duration': 4.381}\n",
      "{'text': 'Halfway Around the World', 'start': 261.12, 'duration': 4.98}\n",
      "{'text': '30 meter high tsunamis Swept Away nearby', 'start': 263.4, 'duration': 5.46}\n",
      "{'text': 'populations and so much gas and Ash were', 'start': 266.1, 'duration': 4.8}\n",
      "{'text': 'released the global temperatures cooled', 'start': 268.86, 'duration': 4.8}\n",
      "{'text': 'by nearly 0.5 degrees Celsius', 'start': 270.9, 'duration': 5.34}\n",
      "{'text': 'red Dusty sunsets followed for many', 'start': 273.66, 'duration': 3.84}\n",
      "{'text': 'years', 'start': 276.24, 'duration': 4.92}\n",
      "{'text': 'at vei7 we get super colossal eruptions', 'start': 277.5, 'duration': 6.0}\n",
      "{'text': 'Millennium defining events that human', 'start': 281.16, 'duration': 4.38}\n",
      "{'text': 'civilization has only encountered a', 'start': 283.5, 'duration': 3.419}\n",
      "{'text': 'handful of times', 'start': 285.54, 'duration': 4.56}\n",
      "{'text': 'Mount Tambora was a 4 300 meter high', 'start': 286.919, 'duration': 6.301}\n",
      "{'text': 'mountain until it exploded in 1815 and', 'start': 290.1, 'duration': 5.52}\n",
      "{'text': 'released 400 times more energy than the', 'start': 293.22, 'duration': 3.8}\n",
      "{'text': 'Tsar bomber', 'start': 295.62, 'duration': 4.5}\n",
      "{'text': '140 billion tons of Ash and dust were', 'start': 297.02, 'duration': 5.44}\n",
      "{'text': 'shot halfway to space before smothering', 'start': 300.12, 'duration': 4.68}\n",
      "{'text': \"the world's skies turning them a sickly\", 'start': 302.46, 'duration': 3.179}\n",
      "{'text': 'yellow', 'start': 304.8, 'duration': 2.82}\n",
      "{'text': 'there was no summer the following year', 'start': 305.639, 'duration': 4.56}\n",
      "{'text': 'crops died and over a hundred thousand', 'start': 307.62, 'duration': 3.96}\n",
      "{'text': 'people perished', 'start': 310.199, 'duration': 3.78}\n",
      "{'text': 'this is the Dreadful potential of', 'start': 311.58, 'duration': 4.619}\n",
      "{'text': 'volcanic eruptions with famines across', 'start': 313.979, 'duration': 4.141}\n",
      "{'text': 'the other side of the world and even', 'start': 316.199, 'duration': 3.72}\n",
      "{'text': 'centuries-long cold periods being', 'start': 318.12, 'duration': 3.48}\n",
      "{'text': 'attributed to them', 'start': 319.919, 'duration': 4.861}\n",
      "{'text': \"okay but what's a super volcano\", 'start': 321.6, 'duration': 5.819}\n",
      "{'text': 'the term supervolcano is a media', 'start': 324.78, 'duration': 5.58}\n",
      "{'text': 'invention and not a scientific term the', 'start': 327.419, 'duration': 4.5}\n",
      "{'text': 'main issue with them is that not every', 'start': 330.36, 'duration': 3.96}\n",
      "{'text': 'eruption from a super volcano is a super', 'start': 331.919, 'duration': 3.661}\n",
      "{'text': 'eruption', 'start': 334.32, 'duration': 3.659}\n",
      "{'text': 'what makes super volcanoes special is', 'start': 335.58, 'duration': 4.02}\n",
      "{'text': \"that they've been waiting to erupt for\", 'start': 337.979, 'duration': 3.481}\n",
      "{'text': 'hundreds of thousands of years', 'start': 339.6, 'duration': 4.14}\n",
      "{'text': 'pressure builds up in colossal magma', 'start': 341.46, 'duration': 4.32}\n",
      "{'text': 'reservoirs several kilometers deep until', 'start': 343.74, 'duration': 3.54}\n",
      "{'text': 'it becomes strong enough to lift the', 'start': 345.78, 'duration': 4.08}\n",
      "{'text': 'rock Above It by several meters rocks', 'start': 347.28, 'duration': 4.32}\n",
      "{'text': 'crack under the pressure until they', 'start': 349.86, 'duration': 3.899}\n",
      "{'text': 'finally give way and billions of tons of', 'start': 351.6, 'duration': 4.56}\n",
      "{'text': 'gas and Ash blast out at supersonic', 'start': 353.759, 'duration': 5.701}\n",
      "{'text': 'speed an insane explosion of at least a', 'start': 356.16, 'duration': 5.34}\n",
      "{'text': 'thousand cubic kilometers that impacts', 'start': 359.46, 'duration': 4.86}\n",
      "{'text': 'every corner of the globe and yet that', 'start': 361.5, 'duration': 4.86}\n",
      "{'text': 'is only a small portion of the magma', 'start': 364.32, 'duration': 3.3}\n",
      "{'text': 'Reservoir', 'start': 366.36, 'duration': 3.54}\n",
      "{'text': 'super eruptions are like a Boiling Pot', 'start': 367.62, 'duration': 4.139}\n",
      "{'text': 'of water popping its lid off and', 'start': 369.9, 'duration': 4.139}\n",
      "{'text': 'spitting a bit off the top afterwards', 'start': 371.759, 'duration': 4.141}\n",
      "{'text': 'the ground collapses into the void Left', 'start': 374.039, 'duration': 4.261}\n",
      "{'text': 'Behind forming a hole called a Caldera', 'start': 375.9, 'duration': 4.68}\n",
      "{'text': 'under this Caldera precious dance', 'start': 378.3, 'duration': 4.44}\n",
      "{'text': 'building again until the volcano gathers', 'start': 380.58, 'duration': 4.26}\n",
      "{'text': 'enough energy for another Super eruption', 'start': 382.74, 'duration': 3.959}\n",
      "{'text': 'but this could take hundreds of', 'start': 384.84, 'duration': 3.299}\n",
      "{'text': 'thousands of years', 'start': 386.699, 'duration': 3.241}\n",
      "{'text': \"it's estimated that one of the few\", 'start': 388.139, 'duration': 4.141}\n",
      "{'text': 'volcanoes capable of super eruptions on', 'start': 389.94, 'duration': 4.02}\n",
      "{'text': 'Earth could cause a catastrophic', 'start': 392.28, 'duration': 4.139}\n",
      "{'text': 'eruption every 17 000 years on average', 'start': 393.96, 'duration': 4.679}\n",
      "{'text': 'that would make them far more frequent', 'start': 396.419, 'duration': 4.861}\n",
      "{'text': 'than comparable asteroid impacts the', 'start': 398.639, 'duration': 5.28}\n",
      "{'text': 'most recent super eruption is the orenui', 'start': 401.28, 'duration': 6.72}\n",
      "{'text': 'eruption 26 500 years ago in New Zealand', 'start': 403.919, 'duration': 6.301}\n",
      "{'text': 'with the force of dozens of billions of', 'start': 408.0, 'duration': 5.34}\n",
      "{'text': 'tons of TNT a mount everest-sized pile', 'start': 410.22, 'duration': 5.4}\n",
      "{'text': 'of explosives a huge portion of the', 'start': 413.34, 'duration': 4.199}\n",
      "{'text': 'landscape was scooped out and thrown', 'start': 415.62, 'duration': 3.66}\n",
      "{'text': 'into the atmosphere', 'start': 417.539, 'duration': 4.321}\n",
      "{'text': 'it left behind a Caldera spanning 20', 'start': 419.28, 'duration': 4.56}\n",
      "{'text': 'kilometers and it caused the entire', 'start': 421.86, 'duration': 3.899}\n",
      "{'text': 'southern hemisphere to undergo a period', 'start': 423.84, 'duration': 4.5}\n",
      "{'text': 'of abrupt Cooling though among super', 'start': 425.759, 'duration': 5.041}\n",
      "{'text': \"eruptions it's a mere firework\", 'start': 428.34, 'duration': 4.979}\n",
      "{'text': 'the lake tuber eruption of 74 000 years', 'start': 430.8, 'duration': 4.679}\n",
      "{'text': 'ago was a much more significant turning', 'start': 433.319, 'duration': 4.5}\n",
      "{'text': 'point in history it released a', 'start': 435.479, 'duration': 5.521}\n",
      "{'text': 'gargantuan 5 300 cubic kilometers of', 'start': 437.819, 'duration': 5.28}\n",
      "{'text': 'material enough to blanket parts of', 'start': 441.0, 'duration': 5.039}\n",
      "{'text': 'South Asia in 15 centimeters of Ash and', 'start': 443.099, 'duration': 5.04}\n",
      "{'text': 'trigger a rapid 4 degrees Celsius drop', 'start': 446.039, 'duration': 3.66}\n",
      "{'text': 'in global temperatures', 'start': 448.139, 'duration': 3.481}\n",
      "{'text': \"it's possible that the volcanic winter\", 'start': 449.699, 'duration': 4.5}\n",
      "{'text': 'lasted 10 years followed by worldwide', 'start': 451.62, 'duration': 4.199}\n",
      "{'text': 'droughts for centuries', 'start': 454.199, 'duration': 3.9}\n",
      "{'text': \"earth's climate might have not recovered\", 'start': 455.819, 'duration': 4.681}\n",
      "{'text': 'for a thousand years', 'start': 458.099, 'duration': 4.561}\n",
      "{'text': 'the largest volcanic events we know of', 'start': 460.5, 'duration': 4.259}\n",
      "{'text': 'were not really huge explosions but', 'start': 462.66, 'duration': 4.08}\n",
      "{'text': 'floods of millions of cubic kilometers', 'start': 464.759, 'duration': 4.861}\n",
      "{'text': 'of lava the grand finale were the', 'start': 466.74, 'duration': 5.64}\n",
      "{'text': 'Siberian traps around 250 million years', 'start': 469.62, 'duration': 5.519}\n",
      "{'text': 'ago a continuous release of lava for two', 'start': 472.38, 'duration': 4.02}\n",
      "{'text': 'million years', 'start': 475.139, 'duration': 3.241}\n",
      "{'text': 'they raised the ocean temperatures to', 'start': 476.4, 'duration': 4.139}\n",
      "{'text': 'over 40 degrees celsius which caused the', 'start': 478.38, 'duration': 4.319}\n",
      "{'text': 'Permian Triassic Extinction killing over', 'start': 480.539, 'duration': 4.261}\n",
      "{'text': '90 percent of all species', 'start': 482.699, 'duration': 4.681}\n",
      "{'text': \"Earth's surface needed 9 million years\", 'start': 484.8, 'duration': 4.019}\n",
      "{'text': 'to recover', 'start': 487.38, 'duration': 3.48}\n",
      "{'text': \"sorts of eruptions don't change the\", 'start': 488.819, 'duration': 4.681}\n",
      "{'text': 'climate they are the climate', 'start': 490.86, 'duration': 4.739}\n",
      "{'text': \"but thankfully we haven't seen anything\", 'start': 493.5, 'duration': 4.44}\n",
      "{'text': 'even remotely close to that scale in', 'start': 495.599, 'duration': 4.44}\n",
      "{'text': 'many millions of years', 'start': 497.94, 'duration': 4.14}\n",
      "{'text': 'so should you be scared of super', 'start': 500.039, 'duration': 3.361}\n",
      "{'text': 'volcanoes', 'start': 502.08, 'duration': 3.959}\n",
      "{'text': \"definitely not they've been used to\", 'start': 503.4, 'duration': 5.1}\n",
      "{'text': 'frighten many people and are overhyped', 'start': 506.039, 'duration': 5.041}\n",
      "{'text': 'as an unavoidable apocalypse the most', 'start': 508.5, 'duration': 5.099}\n",
      "{'text': 'famous One Yellowstone will erupt again', 'start': 511.08, 'duration': 4.56}\n",
      "{'text': 'but they will be relatively smaller', 'start': 513.599, 'duration': 3.12}\n",
      "{'text': 'options', 'start': 515.64, 'duration': 3.54}\n",
      "{'text': 'natural disasters for sure but not', 'start': 516.719, 'duration': 4.56}\n",
      "{'text': 'enough to devastate the U.S or come', 'start': 519.18, 'duration': 4.62}\n",
      "{'text': 'close to ending Humanity', 'start': 521.279, 'duration': 4.921}\n",
      "{'text': 'chance of a ve I8 eruption in the next', 'start': 523.8, 'duration': 4.38}\n",
      "{'text': 'few hundred years is less than two', 'start': 526.2, 'duration': 4.319}\n",
      "{'text': \"percent and more importantly it wouldn't\", 'start': 528.18, 'duration': 4.44}\n",
      "{'text': 'come as a sudden surprise', 'start': 530.519, 'duration': 4.561}\n",
      "{'text': 'however less powerful but more frequent', 'start': 532.62, 'duration': 4.74}\n",
      "{'text': 'eruptions can also do serious damage to', 'start': 535.08, 'duration': 4.98}\n",
      "{'text': 'our civilizations and are in many ways a', 'start': 537.36, 'duration': 4.14}\n",
      "{'text': 'much greater concern', 'start': 540.06, 'duration': 4.14}\n",
      "{'text': 'so we must watch for slow changes in', 'start': 541.5, 'duration': 4.86}\n",
      "{'text': 'magma reservoirs like ground swelling', 'start': 544.2, 'duration': 4.139}\n",
      "{'text': 'and temperature increases to get an', 'start': 546.36, 'duration': 3.84}\n",
      "{'text': 'early warning that can save the lives of', 'start': 548.339, 'duration': 4.44}\n",
      "{'text': 'people living the closest to a volcano', 'start': 550.2, 'duration': 4.98}\n",
      "{'text': \"and there's time to develop solutions\", 'start': 552.779, 'duration': 4.74}\n",
      "{'text': 'that can remove sulfur and Ash from the', 'start': 555.18, 'duration': 4.32}\n",
      "{'text': 'stratosphere to eliminate the root cause', 'start': 557.519, 'duration': 3.601}\n",
      "{'text': \"of the climate disruption we've seen\", 'start': 559.5, 'duration': 3.18}\n",
      "{'text': 'from previous eruptions', 'start': 561.12, 'duration': 3.96}\n",
      "{'text': \"who knows maybe we'll even be able to\", 'start': 562.68, 'duration': 4.32}\n",
      "{'text': 'turn this force of Destruction into an', 'start': 565.08, 'duration': 3.96}\n",
      "{'text': 'agent for Good by exploiting the', 'start': 567.0, 'duration': 4.08}\n",
      "{'text': 'geothermal energy held in their giant', 'start': 569.04, 'duration': 3.66}\n",
      "{'text': 'magma reservoirs', 'start': 571.08, 'duration': 3.36}\n",
      "{'text': \"we've done this work for so many other\", 'start': 572.7, 'duration': 3.78}\n",
      "{'text': 'disasters and we are already doing', 'start': 574.44, 'duration': 3.72}\n",
      "{'text': 'things we could only have dreamed about', 'start': 576.48, 'duration': 4.26}\n",
      "{'text': 'decades ago like sending a probe to', 'start': 578.16, 'duration': 4.679}\n",
      "{'text': 'perform our first asteroid redirection', 'start': 580.74, 'duration': 5.52}\n",
      "{'text': 'test with determination Humanity ready', 'start': 582.839, 'duration': 5.761}\n",
      "{'text': 'can solve anything', 'start': 586.26, 'duration': 5.34}\n",
      "{'text': 'so while deep below us an angry hell is', 'start': 588.6, 'duration': 6.0}\n",
      "{'text': 'churning and waiting for its moment you', 'start': 591.6, 'duration': 6.14}\n",
      "{'text': 'can sleep well tonight', 'start': 594.6, 'duration': 3.14}\n",
      "{'text': 'learning how we can get ahead of', 'start': 599.459, 'duration': 3.181}\n",
      "{'text': 'catastrophes like climate change and', 'start': 601.019, 'duration': 3.901}\n",
      "{'text': 'super volcanoes is interesting but can', 'start': 602.64, 'duration': 4.5}\n",
      "{'text': 'also be challenging maybe you still feel', 'start': 604.92, 'duration': 3.84}\n",
      "{'text': \"like you don't really understand how\", 'start': 607.14, 'duration': 4.199}\n",
      "{'text': 'most of the science behind it works and', 'start': 608.76, 'duration': 4.98}\n",
      "{'text': 'on your own it seems too hard to dig', 'start': 611.339, 'duration': 5.281}\n",
      "{'text': \"deeper to solve this we've collaborated\", 'start': 613.74, 'duration': 4.56}\n",
      "{'text': 'with our friends from brilliant to', 'start': 616.62, 'duration': 3.48}\n",
      "{'text': 'create a series of lessons to build your', 'start': 618.3, 'duration': 4.44}\n",
      "{'text': 'understanding of fundamental science by', 'start': 620.1, 'duration': 4.44}\n",
      "{'text': 'exploring fascinating insights from our', 'start': 622.74, 'duration': 3.84}\n",
      "{'text': 'most popular videos on topics like black', 'start': 624.54, 'duration': 4.26}\n",
      "{'text': 'holes the size of life and climate', 'start': 626.58, 'duration': 4.379}\n",
      "{'text': 'change brilliant is an Interactive', 'start': 628.8, 'duration': 3.84}\n",
      "{'text': 'Learning tool that makes science', 'start': 630.959, 'duration': 3.541}\n",
      "{'text': 'accessible with a Hands-On approach', 'start': 632.64, 'duration': 3.84}\n",
      "{'text': 'because we know that to really learn', 'start': 634.5, 'duration': 4.56}\n",
      "{'text': \"something you've got to do it think of\", 'start': 636.48, 'duration': 4.5}\n",
      "{'text': 'each lesson as a one-on-one Deep dive', 'start': 639.06, 'duration': 4.5}\n",
      "{'text': 'version of a quartz gazard video in our', 'start': 640.98, 'duration': 4.08}\n",
      "{'text': \"latest lessons you'll discover the\", 'start': 643.56, 'duration': 3.6}\n",
      "{'text': 'mechanisms that drive climate change and', 'start': 645.06, 'duration': 3.779}\n",
      "{'text': 'use them to understand the impact of', 'start': 647.16, 'duration': 4.2}\n",
      "{'text': 'supervolcanoes on our global climate', 'start': 648.839, 'duration': 5.281}\n",
      "{'text': 'Beyond new koskazard lessons regularly', 'start': 651.36, 'duration': 4.62}\n",
      "{'text': 'released brilliant has thousands of', 'start': 654.12, 'duration': 4.02}\n",
      "{'text': 'lessons for members to explore from', 'start': 655.98, 'duration': 4.2}\n",
      "{'text': 'maths-based topics like algebra and', 'start': 658.14, 'duration': 3.78}\n",
      "{'text': 'probability to the concepts behind', 'start': 660.18, 'duration': 3.719}\n",
      "{'text': 'machine learning and Quantum Computing', 'start': 661.92, 'duration': 4.26}\n",
      "{'text': \"with new releases each month you'll\", 'start': 663.899, 'duration': 4.261}\n",
      "{'text': 'always find something fascinating to', 'start': 666.18, 'duration': 4.44}\n",
      "{'text': 'learn to get Hands-On with cuts exact', 'start': 668.16, 'duration': 5.28}\n",
      "{'text': 'lessons now go to brilliant.org Nutshell', 'start': 670.62, 'duration': 5.159}\n",
      "{'text': 'and sign up for free and with a free', 'start': 673.44, 'duration': 4.079}\n",
      "{'text': 'trial of brilliant premium you can', 'start': 675.779, 'duration': 3.3}\n",
      "{'text': 'explore everything brilliant has to', 'start': 677.519, 'duration': 3.781}\n",
      "{'text': \"offer there's even an extra perk for\", 'start': 679.079, 'duration': 4.2}\n",
      "{'text': 'courts because our viewers the first 200', 'start': 681.3, 'duration': 4.26}\n",
      "{'text': 'people to use the link get 20 off their', 'start': 683.279, 'duration': 4.141}\n",
      "{'text': 'annual membership which unlocks all of', 'start': 685.56, 'duration': 4.14}\n",
      "{'text': \"brilliant's courses in maths science and\", 'start': 687.42, 'duration': 4.919}\n",
      "{'text': 'computer science we love going down a', 'start': 689.7, 'duration': 4.56}\n",
      "{'text': 'rabbit hole with our research brilliant', 'start': 692.339, 'duration': 3.781}\n",
      "{'text': 'will take you by the hand to come along', 'start': 694.26, 'duration': 3.12}\n",
      "{'text': 'on the ride', 'start': 696.12, 'duration': 3.13}\n",
      "{'text': 'foreign', 'start': 697.38, 'duration': 7.659}\n",
      "{'text': '[Music]', 'start': 699.25, 'duration': 5.789}\n",
      "{'text': '[Music]', 'start': 708.94, 'duration': 11.15}\n"
     ]
    }
   ],
   "source": [
    "srt = YouTubeTranscriptApi.get_transcript(\"fXb02MQ78yQ\")\n",
    "for t in srt:\n",
    "    print(t)\n",
    "transcript = (normalizer(t['text']) for t in srt)"
   ],
   "metadata": {
    "collapsed": false,
    "pycharm": {
     "name": "#%%\n"
    }
   }
  },
  {
   "cell_type": "code",
   "execution_count": 50,
   "outputs": [
    {
     "name": "stdout",
     "output_type": "stream",
     "text": [
      "the earth is a gigantic ball of semi molten rock with a heart of iron as hot as the surface of the sun titanic amounts of heat left over from its birth and the radioactive decay of s of tons of radioactive elements find no escape but up currents of rock spanning s of kilometers carry this energy to the surface earth is crust is the only thing in their way it feels solid to us but it is only a fragile barrier an apple skin around a flaming behemoth true apocalypses can break through and unleash eruptions s of times more powerful than all of our nuclear weapons combined subjecting the climate to centuries worth of change in a single year while drowning continents in toxic ash and gases super volcanoes how big can they get and will they put an end to humanity volcanoes there are many types of volcanoes from towering mountains to lava domes but they have  main sources the st is at the boundaries between tectonic plates the pieces of the crust that cover the earth like a giant jigsaw puzzle there are  major tectonic plates and dozens of smaller ones drifting against each other at up to  centimeters per year this sounds slow but on geological timescales it is a titanic struggle over who gets to stay on the surface the winning plate crumples into a new mountain range while the loser is shoved underneath into an ocean of hot rock at  degrees celsius the asthenosphere the temperature here is enough to melt rock into a liquid but the insane pressures of all that mass keep it a superheated solid tectonic plates are usually in contact with water for s of years and absorb some of it when they are submerged into the hot underworld this water triggers chemical transformations that allow tiny portions to melt into magma liquid magma is less dense than solid rock so it rises to the surface in furious bubbles that accumulate in sponge like reservoirs right under the crust if enough magma accumulates it becomes powerful enough to pierce through the crust which we experience as volcanoes this happens under the winning plate like a revenge attack by the loser before it is erased forever the nd main source of volcanoes are thought to be mantle plumes these are columns of abnormally hot rock that rise all the way from the planet is core mantle boundary to the surface much less is known about them but in a way it is as if the earth is mantle has weather patterns and mantle plumes are a little like hot air rising to form storm clouds storms s of s of years old made of rock circulating at a rate of a few millimeters per month they do not care about the motion of tectonic plates so they can break the crust to create volcanoes in the middle of nowhere that stubbornly stay active as the crust shifts around them the volcanic boom meter scientists love to put big booms on a scale and came up with a logarithmic scale that measures the volume ejected during an eruption the volcanic explosivity index or vei simply put it starts really small and gets very big very quickly a vei  eruption would fill  full olympic swimming pools with lava we have around  of these per year at vei  we already see devastating effects like the eruption of the semaru volcano in  that destroyed s of homes in indonesia at vei  we see catastrophic amounts of materials cubic kilometers of debris equivalent to an entire lake of molten rock blasted into the air like the  honga tonga honga hapai eruption that sent a shockwave around the globe many times and created ocean wide tsunamis at a vei of  an eruption can change the world in  the indonesian island volcano krakatoa erupted nearly continuously over the course of  months one of those eruptions blew it apart producing the loudest sound recorded in history  times louder than a rocket taking off heard halfway around the world  meter high tsunamis swept away nearby populations and so much gas and ash were released that global temperatures cooled by nearly . degrees celsius red dusty sunsets followed for many years at vei  we get super colossal eruptions millennium defining events that human civilization has only encountered a handful of times mount tambora was a  meter high mountain until it exploded in  and released  times more energy than the tsar bomba  tons of ash and dust were shot halfway to space before smothering the world is skies turning them a sickly yellow there was no summer the following year crops died and over  people perished this is the dreadful potential of volcanic eruptions with famines across the other side of the world and even centuries long cold periods being attributed to them okay but what is a supervolcano the term supervolcano is a media invention and not a scientific term the main issue with them is that not every eruption from a supervolcano is a super eruption what makes supervolcanoes special is that they have been waiting to erupt for s of s of years pressure builds up in colossal magma reservoirs several kilometers deep until it becomes strong enough to lift the rock above it by several meters rocks crack under the pressure until they finally give way and s of tons of gas and ash blast out at supersonic speed an insane explosion of at least a  cubic kilometers that impacts every corner of the globe and yet that is only a small portion of the magma reservoir super eruptions are like a boiling pot of water popping its lid off and spitting a bit off the top afterwards the ground collapses into the void left behind forming a hole called a caldera under this caldera pressure starts building again until the volcano gathers enough energy for another super eruption but this could take s of s of years it is estimated that one of the few volcanoes capable of super eruptions on earth could cause a catastrophic eruption every  years on average that would make them far more frequent than comparable asteroid impacts the most recent super eruption is the oranui eruption  years ago in new zealand with the force of dozens of s of tons of tnt a mount everest sized pile of explosives a huge portion of the landscape was scooped out and thrown into the atmosphere it left behind a caldera spanning  kilometers and it caused the entire southern hemisphere to undergo a period of abrupt cooling though among super eruptions it is a mere firework the lake toba eruption of  years ago was a much more significant turning point in history it released a gargantuan  cubic kilometers of material enough to blanket parts of south asia in  centimeters of ash and trigger a rapid  degrees celsius drop in global temperatures it is possible that the volcanic winter lasted  years followed by worldwide droughts for centuries earth is climate might have not recovered for a  years the largest volcanic events we know of were not really huge explosions but floods of s of cubic kilometers of lava the grand finale were the siberian traps around  years ago a continuous release of lava for  years they raised the ocean temperatures to over  degrees celsius which caused the permian triassic extinction killing over % of all species earth is surface needed  years to recover these sorts of eruptions do not change the climate they are the climate but thankfully we have not seen anything even remotely close to that scale in many s of years so should you be scared of supervolcanoes definitely not they have been used to frighten many people and are overhyped as an unavoidable apocalypse the most famous one yellowstone will erupt again but they will be relatively small eruptions natural disasters for sure but not enough to devastate the us or come close to ending humanity the chance of a vei  eruption in the next few  years is less than % and more importantly it would not come as a sudden surprise however less powerful but more frequent eruptions can also do serious damage to our civilizations and are in many ways a much greater concern so we must watch for slow changes in magma reservoirs like ground swelling and temperature increases to get an early warning that can save the lives of people living the closest to a volcano and there is time to develop solutions that can remove sulfur and ash from the stratosphere to eliminate the root cause of the climate disruption we have seen from previous eruptions who knows maybe we will even be able to turn this force of destruction into an agent for good by exploiting the geothermal energy held in their giant magma reservoirs we have done this work for so many other disasters and we are already doing things we could only have dreamed about decades ago like sending a probe to perform our st asteroid redirection test with determination humanity really can solve anything so while deep below us an angry hell is churning and waiting for its moment you can sleep well tonight learning how we can get ahead of catastrophes like climate change and supervolcanoes is interesting but can also be challenging maybe you still feel like you do not really understand how most of the science behind it works and on your own it seems too hard to dig deeper to solve this we have collaborated with our friends from brilliant to create a series of lessons to build your understanding of fundamental science by exploring fascinating insights from our most popular videos on topics like black holes the science of life and climate change brilliant is an interactive learning tool that makes science accessible with a hands on approach because we know that to really learn something you have got to do it think of each lesson as a one on one deep dive version of a kurzgesagt video in our latest lessons you will discover the mechanisms that drive climate change and use them to understand the impact of supervolcanoes on our global climate beyond new kurzgesagt lessons regularly released brilliant has s of lessons for members to explore from maths based topics like algebra and probability to the concepts behind machine learning and quantum computing with new releases each month you will always find something fascinating to learn to get hands on with kurzgesagt lessons now go to brilliant org slash nutshell and sign up for free and with a free trial of brilliant premium you can explore everything brilliant has to offer there is even an extra perk for kurzgesagt viewers the st  people to use the link get % off their annual membership which unlocks all of brilliant is courses in maths science and computer science we love going down a rabbit hole with our research brilliant will take you by the hand to come along on the ride\n"
     ]
    }
   ],
   "source": [
    "print(normalized_text)"
   ],
   "metadata": {
    "collapsed": false,
    "pycharm": {
     "name": "#%%\n"
    }
   }
  },
  {
   "cell_type": "code",
   "execution_count": 51,
   "outputs": [
    {
     "name": "stdout",
     "output_type": "stream",
     "text": [
      "<generator object <genexpr> at 0x0000021BBC9EF890>\n"
     ]
    }
   ],
   "source": [
    "print(transcript)\n",
    "transcript = ' '.join(transcript)"
   ],
   "metadata": {
    "collapsed": false,
    "pycharm": {
     "name": "#%%\n"
    }
   }
  },
  {
   "cell_type": "code",
   "execution_count": 52,
   "outputs": [
    {
     "name": "stdout",
     "output_type": "stream",
     "text": [
      "('replace', 8, 9, 8, 9)\n",
      "('replace', 166, 167, 166, 167)\n",
      "('replace', 212, 213, 212, 214)\n",
      "('insert', 248, 248, 249, 250)\n",
      "('replace', 275, 276, 277, 278)\n",
      "('replace', 455, 456, 457, 458)\n",
      "('replace', 612, 613, 614, 615)\n",
      "('replace', 614, 615, 616, 617)\n",
      "('replace', 696, 697, 698, 699)\n",
      "('replace', 751, 752, 753, 754)\n",
      "('insert', 784, 784, 786, 787)\n",
      "('replace', 818, 819, 821, 823)\n",
      "('replace', 843, 844, 847, 849)\n",
      "('replace', 850, 851, 855, 857)\n",
      "('replace', 979, 981, 985, 987)\n",
      "('replace', 1044, 1045, 1050, 1051)\n",
      "('replace', 1115, 1116, 1121, 1122)\n",
      "('delete', 1249, 1250, 1255, 1255)\n",
      "('replace', 1286, 1287, 1291, 1293)\n",
      "('replace', 1317, 1319, 1323, 1325)\n",
      "('replace', 1329, 1330, 1335, 1337)\n",
      "('delete', 1336, 1337, 1343, 1343)\n",
      "('replace', 1340, 1341, 1346, 1348)\n",
      "('replace', 1350, 1351, 1357, 1358)\n",
      "('replace', 1519, 1520, 1526, 1527)\n",
      "('replace', 1555, 1556, 1562, 1564)\n",
      "('replace', 1631, 1632, 1639, 1640)\n",
      "('replace', 1680, 1681, 1688, 1690)\n",
      "('replace', 1710, 1711, 1719, 1720)\n",
      "('replace', 1758, 1759, 1767, 1769)\n",
      "('delete', 1765, 1766, 1775, 1775)\n",
      "('replace', 1795, 1796, 1804, 1807)\n",
      "('delete', 1805, 1806, 1816, 1816)\n",
      "('insert', 1846, 1846, 1856, 1857)\n"
     ]
    }
   ],
   "source": [
    "\n",
    "import re\n",
    "normalized_text = re.sub(r'\\d+','',normalized_text)\n",
    "normalized_transcript = re.sub(r'\\d+','', transcript)\n",
    "# calculate the difference between the two texts\n",
    "diff = difflib.SequenceMatcher(lambda x: x == \" \", normalized_text.split(), normalized_transcript.split())\n",
    "\n",
    "for d in diff.get_opcodes():\n",
    "    if d[0] != 'equal':\n",
    "        print(d)"
   ],
   "metadata": {
    "collapsed": false,
    "pycharm": {
     "name": "#%%\n"
    }
   }
  },
  {
   "cell_type": "code",
   "execution_count": null,
   "outputs": [],
   "source": [],
   "metadata": {
    "collapsed": false,
    "pycharm": {
     "name": "#%%\n"
    }
   }
  }
 ],
 "metadata": {
  "kernelspec": {
   "display_name": "Python 3",
   "language": "python",
   "name": "python3"
  },
  "language_info": {
   "codemirror_mode": {
    "name": "ipython",
    "version": 2
   },
   "file_extension": ".py",
   "mimetype": "text/x-python",
   "name": "python",
   "nbconvert_exporter": "python",
   "pygments_lexer": "ipython2",
   "version": "2.7.6"
  }
 },
 "nbformat": 4,
 "nbformat_minor": 0
}